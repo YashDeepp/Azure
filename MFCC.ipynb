{
 "cells": [
  {
   "cell_type": "code",
   "execution_count": 44,
   "id": "7b052358",
   "metadata": {},
   "outputs": [
    {
     "name": "stdout",
     "output_type": "stream",
     "text": [
      "importing Jupyter notebook from Hparams.ipynb\n"
     ]
    }
   ],
   "source": [
    "import librosa\n",
    "import librosa.filters\n",
    "import numpy as np\n",
    "import tensorflow as tf\n",
    "from scipy import signal\n",
    "from scipy.io import wavfile\n",
    "import import_ipynb\n",
    "from Hparams import hparams as hp"
   ]
  },
  {
   "cell_type": "code",
   "execution_count": 45,
   "id": "a2359ced",
   "metadata": {},
   "outputs": [],
   "source": [
    "def load_wav(path, sr):\n",
    "    return librosa.core.load(path, sr=sr)[0]"
   ]
  },
  {
   "cell_type": "code",
   "execution_count": 46,
   "id": "c139336c",
   "metadata": {},
   "outputs": [],
   "source": [
    "def preemphasis(wav, k, preemphasize=True):\n",
    "    if preemphasize:\n",
    "        return signal.lfilter([1, -k], [1], wav)\n",
    "    return wav"
   ]
  },
  {
   "cell_type": "code",
   "execution_count": 47,
   "id": "44372117",
   "metadata": {},
   "outputs": [],
   "source": [
    "def get_hop_size():\n",
    "    hop_size = hp.hop_size\n",
    "    if hop_size is None:\n",
    "        assert hp.frame_shift_ms is not None\n",
    "        hop_size = int(hp.frame_shift_ms / 1000 * hp.sample_rate)\n",
    "    return hop_size"
   ]
  },
  {
   "cell_type": "code",
   "execution_count": 48,
   "id": "a8e28bc0",
   "metadata": {},
   "outputs": [],
   "source": [
    "def linearspectrogram(wav):\n",
    "    D = _stft(preemphasis(wav, hp.preemphasis, hp.preemphasize))\n",
    "    S = _amp_to_db(np.abs(D)) - hp.ref_level_db\n",
    "    \n",
    "    if hp.signal_normalization:\n",
    "        return _normalize(S)\n",
    "    return "
   ]
  },
  {
   "cell_type": "code",
   "execution_count": 49,
   "id": "eaf38cdd",
   "metadata": {},
   "outputs": [],
   "source": [
    "def melspectrogram(wav):\n",
    "    D = _stft(preemphasis(wav, hp.preemphasis, hp.preemphasize))\n",
    "    S = _amp_to_db(_linear_to_mel(np.abs(D))) - hp.ref_level_db\n",
    "    \n",
    "    if hp.signal_normalization:\n",
    "        return _normalize(S)\n",
    "    return S"
   ]
  },
  {
   "cell_type": "code",
   "execution_count": 50,
   "id": "28b4d106",
   "metadata": {},
   "outputs": [],
   "source": [
    "def _linear_to_mel(spectogram):\n",
    "    global _mel_basis\n",
    "    if _mel_basis is None:\n",
    "        _mel_basis = _build_mel_basis()\n",
    "    return np.dot(_mel_basis, spectogram)"
   ]
  },
  {
   "cell_type": "code",
   "execution_count": 51,
   "id": "3ba664cf",
   "metadata": {},
   "outputs": [],
   "source": [
    "def _build_mel_basis():\n",
    "    assert hp.fmax <= hp.sample_rate // 2\n",
    "    return librosa.filters.mel(hp.sample_rate, hp.n_fft, n_mels=hp.num_mels,\n",
    "                               fmin=hp.fmin, fmax=hp.fmax)"
   ]
  },
  {
   "cell_type": "code",
   "execution_count": 52,
   "id": "e3cc4714",
   "metadata": {},
   "outputs": [],
   "source": [
    "def _amp_to_db(x):\n",
    "    min_level = np.exp(hp.min_level_db / 20 * np.log(10))\n",
    "    return 20 * np.log10(np.maximum(min_level, x))"
   ]
  },
  {
   "cell_type": "code",
   "execution_count": 53,
   "id": "d65e1f3c",
   "metadata": {},
   "outputs": [],
   "source": [
    "def _normalize(S):\n",
    "    if hp.allow_clipping_in_normalization:\n",
    "        if hp.symmetric_mels:\n",
    "            return np.clip((2 * hp.max_abs_value) * ((S - hp.min_level_db) / (-hp.min_level_db)) - hp.max_abs_value,\n",
    "                           -hp.max_abs_value, hp.max_abs_value)\n",
    "        else:\n",
    "            return np.clip(hp.max_abs_value * ((S - hp.min_level_db) / (-hp.min_level_db)), 0, hp.max_abs_value)\n",
    "    \n",
    "    assert S.max() <= 0 and S.min() - hp.min_level_db >= 0\n",
    "    if hp.symmetric_mels:\n",
    "        return (2 * hp.max_abs_value) * ((S - hp.min_level_db) / (-hp.min_level_db)) - hp.max_abs_value\n",
    "    else:\n",
    "        return hp.max_abs_value * ((S - hp.min_level_db) / (-hp.min_level_db))"
   ]
  },
  {
   "cell_type": "code",
   "execution_count": 55,
   "id": "4d5e7c69",
   "metadata": {},
   "outputs": [
    {
     "ename": "ValueError",
     "evalue": "x must be at least 1D",
     "output_type": "error",
     "traceback": [
      "\u001b[1;31m---------------------------------------------------------------------------\u001b[0m",
      "\u001b[1;31mValueError\u001b[0m                                Traceback (most recent call last)",
      "\u001b[1;32m<ipython-input-55-235374c4d009>\u001b[0m in \u001b[0;36m<module>\u001b[1;34m\u001b[0m\n\u001b[1;32m----> 1\u001b[1;33m \u001b[0mmelspectrogram\u001b[0m\u001b[1;33m(\u001b[0m\u001b[1;34m'f2btrop6.0.wav'\u001b[0m\u001b[1;33m)\u001b[0m\u001b[1;33m\u001b[0m\u001b[1;33m\u001b[0m\u001b[0m\n\u001b[0m",
      "\u001b[1;32m<ipython-input-49-972860fab166>\u001b[0m in \u001b[0;36mmelspectrogram\u001b[1;34m(wav)\u001b[0m\n\u001b[0;32m      1\u001b[0m \u001b[1;32mdef\u001b[0m \u001b[0mmelspectrogram\u001b[0m\u001b[1;33m(\u001b[0m\u001b[0mwav\u001b[0m\u001b[1;33m)\u001b[0m\u001b[1;33m:\u001b[0m\u001b[1;33m\u001b[0m\u001b[1;33m\u001b[0m\u001b[0m\n\u001b[1;32m----> 2\u001b[1;33m     \u001b[0mD\u001b[0m \u001b[1;33m=\u001b[0m \u001b[0m_stft\u001b[0m\u001b[1;33m(\u001b[0m\u001b[0mpreemphasis\u001b[0m\u001b[1;33m(\u001b[0m\u001b[0mwav\u001b[0m\u001b[1;33m,\u001b[0m \u001b[0mhp\u001b[0m\u001b[1;33m.\u001b[0m\u001b[0mpreemphasis\u001b[0m\u001b[1;33m,\u001b[0m \u001b[0mhp\u001b[0m\u001b[1;33m.\u001b[0m\u001b[0mpreemphasize\u001b[0m\u001b[1;33m)\u001b[0m\u001b[1;33m)\u001b[0m\u001b[1;33m\u001b[0m\u001b[1;33m\u001b[0m\u001b[0m\n\u001b[0m\u001b[0;32m      3\u001b[0m     \u001b[0mS\u001b[0m \u001b[1;33m=\u001b[0m \u001b[0m_amp_to_db\u001b[0m\u001b[1;33m(\u001b[0m\u001b[0m_linear_to_mel\u001b[0m\u001b[1;33m(\u001b[0m\u001b[0mnp\u001b[0m\u001b[1;33m.\u001b[0m\u001b[0mabs\u001b[0m\u001b[1;33m(\u001b[0m\u001b[0mD\u001b[0m\u001b[1;33m)\u001b[0m\u001b[1;33m)\u001b[0m\u001b[1;33m)\u001b[0m \u001b[1;33m-\u001b[0m \u001b[0mhp\u001b[0m\u001b[1;33m.\u001b[0m\u001b[0mref_level_db\u001b[0m\u001b[1;33m\u001b[0m\u001b[1;33m\u001b[0m\u001b[0m\n\u001b[0;32m      4\u001b[0m \u001b[1;33m\u001b[0m\u001b[0m\n\u001b[0;32m      5\u001b[0m     \u001b[1;32mif\u001b[0m \u001b[0mhp\u001b[0m\u001b[1;33m.\u001b[0m\u001b[0msignal_normalization\u001b[0m\u001b[1;33m:\u001b[0m\u001b[1;33m\u001b[0m\u001b[1;33m\u001b[0m\u001b[0m\n",
      "\u001b[1;32m<ipython-input-46-244d310a65fd>\u001b[0m in \u001b[0;36mpreemphasis\u001b[1;34m(wav, k, preemphasize)\u001b[0m\n\u001b[0;32m      1\u001b[0m \u001b[1;32mdef\u001b[0m \u001b[0mpreemphasis\u001b[0m\u001b[1;33m(\u001b[0m\u001b[0mwav\u001b[0m\u001b[1;33m,\u001b[0m \u001b[0mk\u001b[0m\u001b[1;33m,\u001b[0m \u001b[0mpreemphasize\u001b[0m\u001b[1;33m=\u001b[0m\u001b[1;32mTrue\u001b[0m\u001b[1;33m)\u001b[0m\u001b[1;33m:\u001b[0m\u001b[1;33m\u001b[0m\u001b[1;33m\u001b[0m\u001b[0m\n\u001b[0;32m      2\u001b[0m     \u001b[1;32mif\u001b[0m \u001b[0mpreemphasize\u001b[0m\u001b[1;33m:\u001b[0m\u001b[1;33m\u001b[0m\u001b[1;33m\u001b[0m\u001b[0m\n\u001b[1;32m----> 3\u001b[1;33m         \u001b[1;32mreturn\u001b[0m \u001b[0msignal\u001b[0m\u001b[1;33m.\u001b[0m\u001b[0mlfilter\u001b[0m\u001b[1;33m(\u001b[0m\u001b[1;33m[\u001b[0m\u001b[1;36m1\u001b[0m\u001b[1;33m,\u001b[0m \u001b[1;33m-\u001b[0m\u001b[0mk\u001b[0m\u001b[1;33m]\u001b[0m\u001b[1;33m,\u001b[0m \u001b[1;33m[\u001b[0m\u001b[1;36m1\u001b[0m\u001b[1;33m]\u001b[0m\u001b[1;33m,\u001b[0m \u001b[0mwav\u001b[0m\u001b[1;33m)\u001b[0m\u001b[1;33m\u001b[0m\u001b[1;33m\u001b[0m\u001b[0m\n\u001b[0m\u001b[0;32m      4\u001b[0m     \u001b[1;32mreturn\u001b[0m \u001b[0mwav\u001b[0m\u001b[1;33m\u001b[0m\u001b[1;33m\u001b[0m\u001b[0m\n",
      "\u001b[1;32m~\\anaconda3\\lib\\site-packages\\scipy\\signal\\signaltools.py\u001b[0m in \u001b[0;36mlfilter\u001b[1;34m(b, a, x, axis, zi)\u001b[0m\n\u001b[0;32m   1824\u001b[0m         \u001b[1;32mif\u001b[0m \u001b[0mb\u001b[0m\u001b[1;33m.\u001b[0m\u001b[0mndim\u001b[0m \u001b[1;33m!=\u001b[0m \u001b[1;36m1\u001b[0m \u001b[1;32mand\u001b[0m \u001b[0ma\u001b[0m\u001b[1;33m.\u001b[0m\u001b[0mndim\u001b[0m \u001b[1;33m!=\u001b[0m \u001b[1;36m1\u001b[0m\u001b[1;33m:\u001b[0m\u001b[1;33m\u001b[0m\u001b[1;33m\u001b[0m\u001b[0m\n\u001b[0;32m   1825\u001b[0m             \u001b[1;32mraise\u001b[0m \u001b[0mValueError\u001b[0m\u001b[1;33m(\u001b[0m\u001b[1;34m'object of too small depth for desired array'\u001b[0m\u001b[1;33m)\u001b[0m\u001b[1;33m\u001b[0m\u001b[1;33m\u001b[0m\u001b[0m\n\u001b[1;32m-> 1826\u001b[1;33m         \u001b[0mx\u001b[0m \u001b[1;33m=\u001b[0m \u001b[0m_validate_x\u001b[0m\u001b[1;33m(\u001b[0m\u001b[0mx\u001b[0m\u001b[1;33m)\u001b[0m\u001b[1;33m\u001b[0m\u001b[1;33m\u001b[0m\u001b[0m\n\u001b[0m\u001b[0;32m   1827\u001b[0m         \u001b[0minputs\u001b[0m \u001b[1;33m=\u001b[0m \u001b[1;33m[\u001b[0m\u001b[0mb\u001b[0m\u001b[1;33m,\u001b[0m \u001b[0ma\u001b[0m\u001b[1;33m,\u001b[0m \u001b[0mx\u001b[0m\u001b[1;33m]\u001b[0m\u001b[1;33m\u001b[0m\u001b[1;33m\u001b[0m\u001b[0m\n\u001b[0;32m   1828\u001b[0m         \u001b[1;32mif\u001b[0m \u001b[0mzi\u001b[0m \u001b[1;32mis\u001b[0m \u001b[1;32mnot\u001b[0m \u001b[1;32mNone\u001b[0m\u001b[1;33m:\u001b[0m\u001b[1;33m\u001b[0m\u001b[1;33m\u001b[0m\u001b[0m\n",
      "\u001b[1;32m~\\anaconda3\\lib\\site-packages\\scipy\\signal\\signaltools.py\u001b[0m in \u001b[0;36m_validate_x\u001b[1;34m(x)\u001b[0m\n\u001b[0;32m   3924\u001b[0m     \u001b[0mx\u001b[0m \u001b[1;33m=\u001b[0m \u001b[0mnp\u001b[0m\u001b[1;33m.\u001b[0m\u001b[0masarray\u001b[0m\u001b[1;33m(\u001b[0m\u001b[0mx\u001b[0m\u001b[1;33m)\u001b[0m\u001b[1;33m\u001b[0m\u001b[1;33m\u001b[0m\u001b[0m\n\u001b[0;32m   3925\u001b[0m     \u001b[1;32mif\u001b[0m \u001b[0mx\u001b[0m\u001b[1;33m.\u001b[0m\u001b[0mndim\u001b[0m \u001b[1;33m==\u001b[0m \u001b[1;36m0\u001b[0m\u001b[1;33m:\u001b[0m\u001b[1;33m\u001b[0m\u001b[1;33m\u001b[0m\u001b[0m\n\u001b[1;32m-> 3926\u001b[1;33m         \u001b[1;32mraise\u001b[0m \u001b[0mValueError\u001b[0m\u001b[1;33m(\u001b[0m\u001b[1;34m'x must be at least 1D'\u001b[0m\u001b[1;33m)\u001b[0m\u001b[1;33m\u001b[0m\u001b[1;33m\u001b[0m\u001b[0m\n\u001b[0m\u001b[0;32m   3927\u001b[0m     \u001b[1;32mreturn\u001b[0m \u001b[0mx\u001b[0m\u001b[1;33m\u001b[0m\u001b[1;33m\u001b[0m\u001b[0m\n\u001b[0;32m   3928\u001b[0m \u001b[1;33m\u001b[0m\u001b[0m\n",
      "\u001b[1;31mValueError\u001b[0m: x must be at least 1D"
     ]
    }
   ],
   "source": [
    "melspectrogram('f2btrop6.0.wav')"
   ]
  },
  {
   "cell_type": "code",
   "execution_count": 54,
   "id": "d56f70bc",
   "metadata": {},
   "outputs": [],
   "source": [
    "def _lws_processor():\n",
    "    import lws\n",
    "    return lws.lws(hp.n_fft, get_hop_size(), fftsize=hp.win_size, mode=\"speech\")\n",
    "\n",
    "def _stft(y):\n",
    "    if hp.use_lws:\n",
    "        return _lws_processor(hp).stft(y).T\n",
    "    else:\n",
    "        return librosa.stft(y=y, n_fft=hp.n_fft, hop_length=get_hop_size(), win_length=hp.win_size)"
   ]
  },
  {
   "cell_type": "code",
   "execution_count": null,
   "id": "6eda631f",
   "metadata": {},
   "outputs": [],
   "source": []
  }
 ],
 "metadata": {
  "kernelspec": {
   "display_name": "Python 3",
   "language": "python",
   "name": "python3"
  },
  "language_info": {
   "codemirror_mode": {
    "name": "ipython",
    "version": 3
   },
   "file_extension": ".py",
   "mimetype": "text/x-python",
   "name": "python",
   "nbconvert_exporter": "python",
   "pygments_lexer": "ipython3",
   "version": "3.8.8"
  }
 },
 "nbformat": 4,
 "nbformat_minor": 5
}
