{
 "cells": [
  {
   "cell_type": "code",
   "execution_count": 15,
   "id": "4efc4286",
   "metadata": {},
   "outputs": [
    {
     "name": "stdout",
     "output_type": "stream",
     "text": [
      "^C\n"
     ]
    }
   ],
   "source": [
    "!pip install ibm_watson"
   ]
  },
  {
   "cell_type": "code",
   "execution_count": 16,
   "id": "a3cf235a",
   "metadata": {},
   "outputs": [],
   "source": [
    "from ibm_watson import SpeechToTextV1\n",
    "from ibm_cloud_sdk_core.authenticators import IAMAuthenticator"
   ]
  },
  {
   "cell_type": "code",
   "execution_count": 17,
   "id": "6b183fc6",
   "metadata": {},
   "outputs": [],
   "source": [
    "apikey=\"cB5jDicVmxBLhjJiTWAPMoPAAxZ0Pl8Jb1FGFBcVPzSV\"\n",
    "url=\"https://api.au-syd.speech-to-text.watson.cloud.ibm.com/instances/6b375f30-1574-4b47-8d62-91169195f765\""
   ]
  },
  {
   "cell_type": "code",
   "execution_count": 18,
   "id": "db0a0d9f",
   "metadata": {},
   "outputs": [
    {
     "name": "stdout",
     "output_type": "stream",
     "text": [
      "Requirement already satisfied: ibm_watson in c:\\users\\yashd\\anaconda3\\lib\\site-packages (6.1.0)\n",
      "Requirement already satisfied: websocket-client==1.1.0 in c:\\users\\yashd\\anaconda3\\lib\\site-packages (from ibm_watson) (1.1.0)\n",
      "Requirement already satisfied: python-dateutil>=2.5.3 in c:\\users\\yashd\\anaconda3\\lib\\site-packages (from ibm_watson) (2.8.1)\n",
      "Requirement already satisfied: ibm-cloud-sdk-core==3.*,>=3.3.6 in c:\\users\\yashd\\anaconda3\\lib\\site-packages (from ibm_watson) (3.16.0)\n",
      "Requirement already satisfied: requests<3.0,>=2.0 in c:\\users\\yashd\\anaconda3\\lib\\site-packages (from ibm_watson) (2.28.1)\n",
      "Requirement already satisfied: urllib3<2.0.0,>=1.26.0 in c:\\users\\yashd\\anaconda3\\lib\\site-packages (from ibm-cloud-sdk-core==3.*,>=3.3.6->ibm_watson) (1.26.4)\n",
      "Requirement already satisfied: PyJWT<3.0.0,>=2.4.0 in c:\\users\\yashd\\anaconda3\\lib\\site-packages (from ibm-cloud-sdk-core==3.*,>=3.3.6->ibm_watson) (2.4.0)\n",
      "Requirement already satisfied: six>=1.5 in c:\\users\\yashd\\anaconda3\\lib\\site-packages (from python-dateutil>=2.5.3->ibm_watson) (1.15.0)\n",
      "Requirement already satisfied: certifi>=2017.4.17 in c:\\users\\yashd\\anaconda3\\lib\\site-packages (from requests<3.0,>=2.0->ibm_watson) (2022.6.15)\n",
      "Requirement already satisfied: charset-normalizer<3,>=2 in c:\\users\\yashd\\anaconda3\\lib\\site-packages (from requests<3.0,>=2.0->ibm_watson) (2.1.1)\n",
      "Requirement already satisfied: idna<4,>=2.5 in c:\\users\\yashd\\anaconda3\\lib\\site-packages (from requests<3.0,>=2.0->ibm_watson) (2.10)\n"
     ]
    }
   ],
   "source": [
    "authenticator=IAMAuthenticator(apikey)\n",
    "stt=SpeechToTextV1(authenticator=authenticator)\n",
    "stt.set_service_url(url)"
   ]
  },
  {
   "cell_type": "code",
   "execution_count": 19,
   "id": "eadd93dd",
   "metadata": {},
   "outputs": [],
   "source": [
    "with open(\"f2btrop6.0.wav\",'rb') as f: \n",
    "    res=stt.recognize(audio=f,content_type='audio/wav',model=\"en-US_NarrowbandModel\").get_result()"
   ]
  },
  {
   "cell_type": "code",
   "execution_count": 20,
   "id": "d684b7cd",
   "metadata": {},
   "outputs": [
    {
     "data": {
      "text/plain": [
       "{'result_index': 0,\n",
       " 'results': [{'final': True,\n",
       "   'alternatives': [{'transcript': \"Prothro Stith points out that it's school based clinics were established parental permission would be required for students to receive each service offered \",\n",
       "     'confidence': 0.95}]}]}"
      ]
     },
     "execution_count": 20,
     "metadata": {},
     "output_type": "execute_result"
    }
   ],
   "source": [
    "res"
   ]
  },
  {
   "cell_type": "code",
   "execution_count": null,
   "id": "e0e995b2",
   "metadata": {},
   "outputs": [],
   "source": []
  }
 ],
 "metadata": {
  "kernelspec": {
   "display_name": "Python 3",
   "language": "python",
   "name": "python3"
  },
  "language_info": {
   "codemirror_mode": {
    "name": "ipython",
    "version": 3
   },
   "file_extension": ".py",
   "mimetype": "text/x-python",
   "name": "python",
   "nbconvert_exporter": "python",
   "pygments_lexer": "ipython3",
   "version": "3.8.8"
  }
 },
 "nbformat": 4,
 "nbformat_minor": 5
}
