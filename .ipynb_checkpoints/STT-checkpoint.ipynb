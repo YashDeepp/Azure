{
 "cells": [
  {
   "cell_type": "code",
   "execution_count": 6,
   "id": "08069598",
   "metadata": {},
   "outputs": [
    {
     "name": "stdout",
     "output_type": "stream",
     "text": [
      "Collecting ibm_watson\n",
      "  Downloading ibm-watson-6.1.0.tar.gz (373 kB)\n",
      "     -------------------------------------- 373.5/373.5 kB 2.3 MB/s eta 0:00:00\n",
      "  Installing build dependencies: started\n",
      "  Installing build dependencies: finished with status 'done'\n",
      "  Getting requirements to build wheel: started\n",
      "  Getting requirements to build wheel: finished with status 'done'\n",
      "  Preparing metadata (pyproject.toml): started\n",
      "  Preparing metadata (pyproject.toml): finished with status 'done'\n",
      "Requirement already satisfied: python-dateutil>=2.5.3 in c:\\users\\yashd\\anaconda3\\lib\\site-packages (from ibm_watson) (2.8.1)\n",
      "Collecting ibm-cloud-sdk-core==3.*,>=3.3.6\n",
      "  Downloading ibm_cloud_sdk_core-3.16.0-py3-none-any.whl (83 kB)\n",
      "     ---------------------------------------- 83.7/83.7 kB 4.6 MB/s eta 0:00:00\n",
      "Collecting websocket-client==1.1.0\n",
      "  Downloading websocket_client-1.1.0-py2.py3-none-any.whl (68 kB)\n",
      "     ---------------------------------------- 68.7/68.7 kB ? eta 0:00:00\n",
      "Requirement already satisfied: requests<3.0,>=2.0 in c:\\users\\yashd\\anaconda3\\lib\\site-packages (from ibm_watson) (2.25.1)\n",
      "Requirement already satisfied: urllib3<2.0.0,>=1.26.0 in c:\\users\\yashd\\anaconda3\\lib\\site-packages (from ibm-cloud-sdk-core==3.*,>=3.3.6->ibm_watson) (1.26.4)\n",
      "Collecting requests<3.0,>=2.0\n",
      "  Downloading requests-2.28.1-py3-none-any.whl (62 kB)\n",
      "     ---------------------------------------- 62.8/62.8 kB 3.5 MB/s eta 0:00:00\n",
      "Collecting PyJWT<3.0.0,>=2.4.0\n",
      "  Downloading PyJWT-2.4.0-py3-none-any.whl (18 kB)\n",
      "Requirement already satisfied: six>=1.5 in c:\\users\\yashd\\anaconda3\\lib\\site-packages (from python-dateutil>=2.5.3->ibm_watson) (1.15.0)\n",
      "Collecting charset-normalizer<3,>=2\n",
      "  Downloading charset_normalizer-2.1.1-py3-none-any.whl (39 kB)\n",
      "Requirement already satisfied: idna<4,>=2.5 in c:\\users\\yashd\\anaconda3\\lib\\site-packages (from requests<3.0,>=2.0->ibm_watson) (2.10)\n",
      "Requirement already satisfied: certifi>=2017.4.17 in c:\\users\\yashd\\anaconda3\\lib\\site-packages (from requests<3.0,>=2.0->ibm_watson) (2020.12.5)\n",
      "Building wheels for collected packages: ibm_watson\n",
      "  Building wheel for ibm_watson (pyproject.toml): started\n",
      "  Building wheel for ibm_watson (pyproject.toml): finished with status 'done'\n",
      "  Created wheel for ibm_watson: filename=ibm_watson-6.1.0-py3-none-any.whl size=370748 sha256=be8a76316773e35e19741e909ecd83ed9160f67804133c9fcacefeffc54f6441\n",
      "  Stored in directory: c:\\users\\yashd\\appdata\\local\\pip\\cache\\wheels\\34\\b4\\cd\\829a351c802b7a578115fe7ddaedff62b29eae84e90882c7e2\n",
      "Successfully built ibm_watson\n",
      "Installing collected packages: websocket-client, PyJWT, charset-normalizer, requests, ibm-cloud-sdk-core, ibm_watson"
     ]
    },
    {
     "name": "stderr",
     "output_type": "stream",
     "text": [
      "ERROR: pip's dependency resolver does not currently take into account all the packages that are installed. This behaviour is the source of the following dependency conflicts.\n",
      "conda-repo-cli 1.0.4 requires pathlib, which is not installed.\n",
      "anaconda-project 0.9.1 requires ruamel-yaml, which is not installed.\n"
     ]
    },
    {
     "name": "stdout",
     "output_type": "stream",
     "text": [
      "\n",
      "  Attempting uninstall: PyJWT\n",
      "    Found existing installation: PyJWT 2.1.0\n",
      "    Uninstalling PyJWT-2.1.0:\n",
      "      Successfully uninstalled PyJWT-2.1.0\n",
      "  Attempting uninstall: requests\n",
      "    Found existing installation: requests 2.25.1\n",
      "    Uninstalling requests-2.25.1:\n",
      "      Successfully uninstalled requests-2.25.1\n",
      "Successfully installed PyJWT-2.4.0 charset-normalizer-2.1.1 ibm-cloud-sdk-core-3.16.0 ibm_watson-6.1.0 requests-2.28.1 websocket-client-1.1.0\n"
     ]
    }
   ],
   "source": [
    "!pip install ibm_watson"
   ]
  },
  {
   "cell_type": "code",
   "execution_count": 7,
   "id": "55213dc6",
   "metadata": {},
   "outputs": [],
   "source": [
    "from ibm_watson import SpeechToTextV1\n",
    "from ibm_cloud_sdk_core.authenticators import IAMAuthenticator"
   ]
  },
  {
   "cell_type": "code",
   "execution_count": 8,
   "id": "c7bc7e17",
   "metadata": {},
   "outputs": [],
   "source": [
    "apikey=\"cB5jDicVmxBLhjJiTWAPMoPAAxZ0Pl8Jb1FGFBcVPzSV\"\n",
    "url=\"https://api.au-syd.speech-to-text.watson.cloud.ibm.com/instances/6b375f30-1574-4b47-8d62-91169195f765\""
   ]
  },
  {
   "cell_type": "code",
   "execution_count": 9,
   "id": "8a52cb34",
   "metadata": {},
   "outputs": [],
   "source": [
    "authenticator=IAMAuthenticator(apikey)\n",
    "stt=SpeechToTextV1(authenticator=authenticator)\n",
    "stt.set_service_url(url)"
   ]
  },
  {
   "cell_type": "code",
   "execution_count": 5,
   "id": "2434928a",
   "metadata": {},
   "outputs": [
    {
     "ename": "RuntimeError",
     "evalue": "Exception with an error code: 0x8 (SPXERR_FILE_OPEN_FAILED)\n[CALL STACK BEGIN]\n\n    > pal_string_to_wstring\n\n    - pal_string_to_wstring\n\n    - pal_string_to_wstring\n\n    - pal_string_to_wstring\n\n    - pal_string_to_wstring\n\n    - pal_string_to_wstring\n\n    - pal_string_to_wstring\n\n    - pal_string_to_wstring\n\n    - pal_string_to_wstring\n\n    - pal_string_to_wstring\n\n    - pal_string_to_wstring\n\n    - pal_string_to_wstring\n\n    - pal_string_to_wstring\n\n    - pal_string_to_wstring\n\n    - pal_string_to_wstring\n\n    - recognizer_create_speech_recognizer_from_config\n\n\n\n[CALL STACK END]\n\n",
     "output_type": "error",
     "traceback": [
      "\u001b[1;31m---------------------------------------------------------------------------\u001b[0m",
      "\u001b[1;31mRuntimeError\u001b[0m                              Traceback (most recent call last)",
      "\u001b[1;32m<ipython-input-5-de9b5ad76934>\u001b[0m in \u001b[0;36m<module>\u001b[1;34m\u001b[0m\n\u001b[1;32m----> 1\u001b[1;33m \u001b[0mspeech_recognizer\u001b[0m \u001b[1;33m=\u001b[0m \u001b[0mspeechsdk\u001b[0m\u001b[1;33m.\u001b[0m\u001b[0mSpeechRecognizer\u001b[0m\u001b[1;33m(\u001b[0m\u001b[0mspeech_config\u001b[0m\u001b[1;33m=\u001b[0m\u001b[0mspeech_config\u001b[0m\u001b[1;33m,\u001b[0m \u001b[0maudio_config\u001b[0m\u001b[1;33m=\u001b[0m\u001b[0maudio_input\u001b[0m\u001b[1;33m)\u001b[0m\u001b[1;33m\u001b[0m\u001b[1;33m\u001b[0m\u001b[0m\n\u001b[0m",
      "\u001b[1;32m~\\anaconda3\\lib\\site-packages\\azure\\cognitiveservices\\speech\\speech.py\u001b[0m in \u001b[0;36m__init__\u001b[1;34m(self, speech_config, audio_config, language, source_language_config, auto_detect_source_language_config)\u001b[0m\n\u001b[0;32m    818\u001b[0m                              'source_language_config or auto_detect_source_language_config')\n\u001b[0;32m    819\u001b[0m \u001b[1;33m\u001b[0m\u001b[0m\n\u001b[1;32m--> 820\u001b[1;33m         self._impl = self._get_impl(impl.SpeechRecognizer, speech_config, audio_config, language,\n\u001b[0m\u001b[0;32m    821\u001b[0m                                     source_language_config, auto_detect_source_language_config)\n\u001b[0;32m    822\u001b[0m \u001b[1;33m\u001b[0m\u001b[0m\n",
      "\u001b[1;32m~\\anaconda3\\lib\\site-packages\\azure\\cognitiveservices\\speech\\speech.py\u001b[0m in \u001b[0;36m_get_impl\u001b[1;34m(reco_type, speech_config, audio_config, language, source_language_config, auto_detect_source_language_config)\u001b[0m\n\u001b[0;32m    883\u001b[0m             \u001b[1;32mif\u001b[0m \u001b[0maudio_config\u001b[0m \u001b[1;32mis\u001b[0m \u001b[1;32mNone\u001b[0m\u001b[1;33m:\u001b[0m\u001b[1;33m\u001b[0m\u001b[1;33m\u001b[0m\u001b[0m\n\u001b[0;32m    884\u001b[0m                 \u001b[1;32mreturn\u001b[0m \u001b[0mreco_type\u001b[0m\u001b[1;33m.\u001b[0m\u001b[0m_from_config\u001b[0m\u001b[1;33m(\u001b[0m\u001b[0mspeech_config\u001b[0m\u001b[1;33m.\u001b[0m\u001b[0m_impl\u001b[0m\u001b[1;33m)\u001b[0m\u001b[1;33m\u001b[0m\u001b[1;33m\u001b[0m\u001b[0m\n\u001b[1;32m--> 885\u001b[1;33m             \u001b[1;32mreturn\u001b[0m \u001b[0mreco_type\u001b[0m\u001b[1;33m.\u001b[0m\u001b[0m_from_config\u001b[0m\u001b[1;33m(\u001b[0m\u001b[0mspeech_config\u001b[0m\u001b[1;33m.\u001b[0m\u001b[0m_impl\u001b[0m\u001b[1;33m,\u001b[0m \u001b[0maudio_config\u001b[0m\u001b[1;33m.\u001b[0m\u001b[0m_impl\u001b[0m\u001b[1;33m)\u001b[0m\u001b[1;33m\u001b[0m\u001b[1;33m\u001b[0m\u001b[0m\n\u001b[0m\u001b[0;32m    886\u001b[0m         \u001b[1;32mif\u001b[0m \u001b[0mlanguage\u001b[0m \u001b[1;32mis\u001b[0m \u001b[1;32mnot\u001b[0m \u001b[1;32mNone\u001b[0m\u001b[1;33m:\u001b[0m\u001b[1;33m\u001b[0m\u001b[1;33m\u001b[0m\u001b[0m\n\u001b[0;32m    887\u001b[0m             \u001b[1;32mif\u001b[0m \u001b[0maudio_config\u001b[0m \u001b[1;32mis\u001b[0m \u001b[1;32mNone\u001b[0m\u001b[1;33m:\u001b[0m\u001b[1;33m\u001b[0m\u001b[1;33m\u001b[0m\u001b[0m\n",
      "\u001b[1;31mRuntimeError\u001b[0m: Exception with an error code: 0x8 (SPXERR_FILE_OPEN_FAILED)\n[CALL STACK BEGIN]\n\n    > pal_string_to_wstring\n\n    - pal_string_to_wstring\n\n    - pal_string_to_wstring\n\n    - pal_string_to_wstring\n\n    - pal_string_to_wstring\n\n    - pal_string_to_wstring\n\n    - pal_string_to_wstring\n\n    - pal_string_to_wstring\n\n    - pal_string_to_wstring\n\n    - pal_string_to_wstring\n\n    - pal_string_to_wstring\n\n    - pal_string_to_wstring\n\n    - pal_string_to_wstring\n\n    - pal_string_to_wstring\n\n    - pal_string_to_wstring\n\n    - recognizer_create_speech_recognizer_from_config\n\n\n\n[CALL STACK END]\n\n"
     ]
    }
   ],
   "source": [
    "speech_recognizer = speechsdk.SpeechRecognizer(speech_config=speech_config, audio_config=audio_input)"
   ]
  },
  {
   "cell_type": "code",
   "execution_count": null,
   "id": "c0d4ca80",
   "metadata": {},
   "outputs": [],
   "source": []
  }
 ],
 "metadata": {
  "kernelspec": {
   "display_name": "Python 3",
   "language": "python",
   "name": "python3"
  },
  "language_info": {
   "codemirror_mode": {
    "name": "ipython",
    "version": 3
   },
   "file_extension": ".py",
   "mimetype": "text/x-python",
   "name": "python",
   "nbconvert_exporter": "python",
   "pygments_lexer": "ipython3",
   "version": "3.8.8"
  }
 },
 "nbformat": 4,
 "nbformat_minor": 5
}
