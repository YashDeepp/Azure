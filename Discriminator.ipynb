{
 "cells": [
  {
   "cell_type": "code",
   "execution_count": 5,
   "id": "aed65882",
   "metadata": {},
   "outputs": [],
   "source": [
    "from keras.models import load_model\n",
    "import numpy as np\n",
    "from keras.optimizers import Adam\n",
    "from keras.models import Model\n",
    "from keras.layers import Dense, Conv2D, Conv3D, BatchNormalization, Activation, Concatenate, AvgPool2D, Input, MaxPool2D, UpSampling2D, Add, ZeroPadding2D, ZeroPadding3D, Lambda, Reshape, Flatten, LeakyReLU\n",
    "from keras_contrib.layers import InstanceNormalization\n",
    "from keras.callbacks import ModelCheckpoint\n",
    "from keras import backend as K\n",
    "import keras\n",
    "import cv2\n",
    "import os\n",
    "import librosa\n",
    "import scipy\n",
    "from keras.utils import plot_model\n",
    "import tensorflow as tf\n",
    "from keras import backend as K"
   ]
  },
  {
   "cell_type": "code",
   "execution_count": 6,
   "id": "f8e4a2a7",
   "metadata": {},
   "outputs": [],
   "source": [
    "def contrastive_loss(y_true, y_pred):\n",
    "    margin = 1.\n",
    "    loss = (1. - y_true) * K.square(y_pred) + y_true * K.square(K.maximum(0., margin - y_pred))\n",
    "    return K.mean(loss)"
   ]
  },
  {
   "cell_type": "code",
   "execution_count": 7,
   "id": "dc0f68ec",
   "metadata": {},
   "outputs": [],
   "source": [
    "def conv_block(x, num_filters, kernel_size=3, strides=2, padding='same'):\n",
    "    x = Conv2D(filters=num_filters, kernel_size= kernel_size,strides=strides, padding=padding)(x)\n",
    "    x = InstanceNormalization()(x)\n",
    "    x = LeakyReLU(alpha=.2)(x)\n",
    "    return x"
   ]
  },
  {
   "cell_type": "code",
   "execution_count": 24,
   "id": "c84dd5c0",
   "metadata": {},
   "outputs": [],
   "source": [
    "def create_model(*args):\n",
    "    input_face = Input(shape=(args.img_size, args.img_size, 3), name=\"input_face\")\n",
    "    x = conv_block(input_face, 64, 7)\n",
    "    x = conv_block(x, 128, 5)\n",
    "    x = conv_block(x, 256, 3)\n",
    "    x = conv_block(x, 512, 3)\n",
    "    x = conv_block(x, 512, 3)\n",
    "    x = Conv2D(filters=512, kernel_size=3, strides=1, padding=\"valid\")(x)\n",
    "    face_embedding = Flatten() (x)\n",
    "    input_audio = Input(shape=(12,35,1), name=\"input_audio\")\n",
    "    x = conv_block(input_audio, 64, 3, 1)\n",
    "    x = conv_block(x, 128, 3, 1)\n",
    "    x = ZeroPadding2D(((1,0),(0,0)))(x)\n",
    "    x = conv_block(x, 256, 3, (1, 2))\n",
    "    x = conv_block(x, 256, 3, 1)\n",
    "    x = conv_block(x, 256, 3, 2)\n",
    "    x = conv_block(x, 512, 3, 2)\n",
    "    x = Conv2D(filters=512, kernel_size = (4, 5),strides=(1,1), padding=\"valid\")(x)\n",
    "    audio_embedding = Flatten() (x)\n",
    "    l2_normalize = Lambda(lambda x: K.l2_normalize(x, axis=1)) \n",
    "    face_embedding = l2_normalize(face_embedding)\n",
    "    audio_embedding = l2_normalize(audio_embedding)\n",
    "    face_embedding = l2_normalize(face_embedding)\n",
    "    d = Lambda(lambda x: K.sqrt(K.sum(K.square(x[0] - x[1]), axis=1, keepdims=True))) ([face_embedding,audio_embedding])\n",
    "    model = Model(inputs=[input_face, input_audio], outputs=[d])\n",
    "    model.summary()\n",
    "    model.compile(loss=contrastive_loss, optimizer=Adam(lr=args.lr)) \n",
    "    return model"
   ]
  },
  {
   "cell_type": "code",
   "execution_count": null,
   "id": "494d2383",
   "metadata": {},
   "outputs": [],
   "source": []
  }
 ],
 "metadata": {
  "kernelspec": {
   "display_name": "Python 3",
   "language": "python",
   "name": "python3"
  },
  "language_info": {
   "codemirror_mode": {
    "name": "ipython",
    "version": 3
   },
   "file_extension": ".py",
   "mimetype": "text/x-python",
   "name": "python",
   "nbconvert_exporter": "python",
   "pygments_lexer": "ipython3",
   "version": "3.8.8"
  }
 },
 "nbformat": 4,
 "nbformat_minor": 5
}
