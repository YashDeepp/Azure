{
 "cells": [
  {
   "cell_type": "code",
   "execution_count": 1,
   "id": "ad425433",
   "metadata": {},
   "outputs": [
    {
     "name": "stdout",
     "output_type": "stream",
     "text": [
      "importing Jupyter notebook from Discriminator.ipynb\n"
     ]
    }
   ],
   "source": [
    "from keras.models import load_model\n",
    "import numpy as np\n",
    "from keras.optimizers import Adam\n",
    "from keras.models import Model\n",
    "from keras.layers import Dense, Conv2D, Conv3D, BatchNormalization, Activation, Concatenate, AvgPool2D, Input, MaxPool2D, UpSampling2D, Add, ZeroPadding2D, ZeroPadding3D, Lambda, Reshape, Flatten, LeakyReLU\n",
    "from keras_contrib.layers import InstanceNormalization\n",
    "from keras.callbacks import ModelCheckpoint\n",
    "from keras import backend as K\n",
    "import keras\n",
    "import cv2\n",
    "import os\n",
    "import librosa\n",
    "import scipy\n",
    "from keras.utils import plot_model\n",
    "import tensorflow as tf\n",
    "from keras import backend as K\n",
    "import import_ipynb\n",
    "from Discriminator import contrastive_loss"
   ]
  },
  {
   "cell_type": "code",
   "execution_count": 2,
   "id": "0a59626b",
   "metadata": {},
   "outputs": [],
   "source": [
    "def conv_block(x, num_filters, kernel_size=3, strides=1, padding='same', act=True):\n",
    "    x = Conv2D(filters=num_filters, kernel_size= kernel_size, strides=strides, padding=padding)(x)\n",
    "    x = BatchNormalization(momentum=.8)(x)\n",
    "    if act:\n",
    "        x = Activation('relu')(x)\n",
    "    return x"
   ]
  },
  {
   "cell_type": "code",
   "execution_count": null,
   "id": "b0676934",
   "metadata": {},
   "outputs": [],
   "source": []
  }
 ],
 "metadata": {
  "kernelspec": {
   "display_name": "Python 3",
   "language": "python",
   "name": "python3"
  },
  "language_info": {
   "codemirror_mode": {
    "name": "ipython",
    "version": 3
   },
   "file_extension": ".py",
   "mimetype": "text/x-python",
   "name": "python",
   "nbconvert_exporter": "python",
   "pygments_lexer": "ipython3",
   "version": "3.8.8"
  }
 },
 "nbformat": 4,
 "nbformat_minor": 5
}
